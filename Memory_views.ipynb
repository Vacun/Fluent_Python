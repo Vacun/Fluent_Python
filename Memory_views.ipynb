{
 "cells": [
  {
   "cell_type": "code",
   "execution_count": 49,
   "metadata": {},
   "outputs": [
    {
     "data": {
      "text/plain": [
       "'/Users/vMac/Desktop/Practice/Fluent_Python'"
      ]
     },
     "execution_count": 49,
     "metadata": {},
     "output_type": "execute_result"
    }
   ],
   "source": [
    "pwd"
   ]
  },
  {
   "cell_type": "code",
   "execution_count": 50,
   "metadata": {},
   "outputs": [],
   "source": [
    "from array import array\n",
    "from random import random"
   ]
  },
  {
   "cell_type": "code",
   "execution_count": 51,
   "metadata": {},
   "outputs": [],
   "source": [
    "floats = array('d',(random() for i in range(10**7)))"
   ]
  },
  {
   "cell_type": "code",
   "execution_count": 52,
   "metadata": {},
   "outputs": [
    {
     "data": {
      "text/plain": [
       "0.7486939600023432"
      ]
     },
     "execution_count": 52,
     "metadata": {},
     "output_type": "execute_result"
    }
   ],
   "source": [
    "floats[-1]"
   ]
  },
  {
   "cell_type": "code",
   "execution_count": 53,
   "metadata": {},
   "outputs": [
    {
     "data": {
      "text/plain": [
       "0.6582241116293954"
      ]
     },
     "execution_count": 53,
     "metadata": {},
     "output_type": "execute_result"
    }
   ],
   "source": [
    "floats[-101]"
   ]
  },
  {
   "cell_type": "code",
   "execution_count": 54,
   "metadata": {},
   "outputs": [],
   "source": [
    "fp = open('floats.bin','wb')\n",
    "floats.tofile(fp)\n",
    "fp.close()"
   ]
  },
  {
   "cell_type": "code",
   "execution_count": 55,
   "metadata": {},
   "outputs": [
    {
     "name": "stdout",
     "output_type": "stream",
     "text": [
      "Memory_views.ipynb  Slicing.py          Tuples.py\r\n",
      "README.md           Sorting.py          floats.bin\r\n"
     ]
    }
   ],
   "source": [
    "ls"
   ]
  },
  {
   "cell_type": "code",
   "execution_count": 56,
   "metadata": {},
   "outputs": [],
   "source": [
    "floats2 = array('d')"
   ]
  },
  {
   "cell_type": "code",
   "execution_count": 57,
   "metadata": {},
   "outputs": [],
   "source": [
    "fp = open('floats.bin','rb')\n",
    "floats2.fromfile(fp, 100)\n",
    "fp.close()"
   ]
  },
  {
   "cell_type": "code",
   "execution_count": 58,
   "metadata": {},
   "outputs": [
    {
     "data": {
      "text/plain": [
       "array('d', [0.3153589037606206, 0.6698446285756621, 0.006248191886222498, 0.9505047868080064, 0.4569002532585851, 0.451834963988588, 0.6813568547189964, 0.556031905640386, 0.8969204342085679, 0.543653368041136, 0.6582609885891868, 0.8150588955001034, 0.5176075140444752, 0.09915183632320179, 0.49395103418525166, 0.7305998665399082, 0.30158476711671733, 0.6721535451667124, 0.47468151726848595, 0.5350552484849445, 0.8652343010054476, 0.020068728999187657, 0.47244553591977045, 0.9429275347644172, 0.7443985469846808, 0.2337361297026609, 0.1624142326036302, 0.8452011173590981, 0.6065192806801396, 0.8187622893477053, 0.2432022308902727, 0.8114387481787476, 0.24020365527276022, 0.103822304449803, 0.48447591876776086, 0.15429065526337693, 0.3634285173262036, 0.9784172228377592, 0.8686318100490816, 0.15992663743504854, 0.3967591332247391, 0.6348449225476988, 0.2631331813697485, 0.16623932908237393, 0.8344140050037804, 0.7317961579495903, 0.48527918613623466, 0.4122276358491198, 0.6649881567493621, 0.259549921302488, 0.651359076872154, 0.13426877696337458, 0.9487837082814753, 0.5384132243440174, 0.7272552618503532, 0.4318693651801402, 0.8846643026313858, 0.6597080524652611, 0.18088267244966205, 0.4962037652014295, 0.9672701753042561, 0.6817717158460714, 0.9532513129754934, 0.34491995627079464, 0.9658999491575592, 0.2452507740561829, 0.30399230005263034, 0.4491463917685423, 0.8313292624970491, 0.03495775087296693, 0.3699897007155244, 0.0067451380834550045, 0.80100816408763, 0.33412858129949696, 0.26133214649823877, 0.005507516657755507, 0.5728389459003224, 0.20208937726022524, 0.557099262324192, 0.06809115445797354, 0.9052030740431379, 0.2217879612863517, 0.9330083329695099, 0.16439798903319724, 0.3940716451498735, 0.017486523984212576, 0.77074032968104, 0.11029163280484311, 0.43798607911280063, 0.9814064609219281, 0.1839822638202152, 0.048371856128623714, 0.7218031683668009, 0.44637908800016246, 0.21483740400268336, 0.2509036564373681, 0.6169774446003603, 0.9836475944989871, 0.09958068690620425, 0.44597049422465895])"
      ]
     },
     "execution_count": 58,
     "metadata": {},
     "output_type": "execute_result"
    }
   ],
   "source": [
    "floats2"
   ]
  },
  {
   "cell_type": "code",
   "execution_count": 59,
   "metadata": {},
   "outputs": [
    {
     "data": {
      "text/plain": [
       "0.6698446285756621"
      ]
     },
     "execution_count": 59,
     "metadata": {},
     "output_type": "execute_result"
    }
   ],
   "source": [
    "floats[1]"
   ]
  },
  {
   "cell_type": "code",
   "execution_count": 60,
   "metadata": {},
   "outputs": [
    {
     "data": {
      "text/plain": [
       "0.6698446285756621"
      ]
     },
     "execution_count": 60,
     "metadata": {},
     "output_type": "execute_result"
    }
   ],
   "source": [
    "floats2[1]"
   ]
  },
  {
   "cell_type": "code",
   "execution_count": 61,
   "metadata": {},
   "outputs": [],
   "source": [
    "fp = open('floats.bin','rb')\n",
    "floats.fromfile(fp,10**7)\n",
    "fp.close()"
   ]
  },
  {
   "cell_type": "code",
   "execution_count": 62,
   "metadata": {},
   "outputs": [
    {
     "data": {
      "text/plain": [
       "0.44597049422465895"
      ]
     },
     "execution_count": 62,
     "metadata": {},
     "output_type": "execute_result"
    }
   ],
   "source": [
    "floats2[-1]"
   ]
  },
  {
   "cell_type": "code",
   "execution_count": null,
   "metadata": {},
   "outputs": [],
   "source": []
  }
 ],
 "metadata": {
  "kernelspec": {
   "display_name": "Python 3",
   "language": "python",
   "name": "python3"
  },
  "language_info": {
   "codemirror_mode": {
    "name": "ipython",
    "version": 3
   },
   "file_extension": ".py",
   "mimetype": "text/x-python",
   "name": "python",
   "nbconvert_exporter": "python",
   "pygments_lexer": "ipython3",
   "version": "3.6.3"
  }
 },
 "nbformat": 4,
 "nbformat_minor": 2
}
