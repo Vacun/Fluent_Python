{
 "cells": [
  {
   "cell_type": "code",
   "execution_count": 1,
   "metadata": {},
   "outputs": [],
   "source": [
    "import sys\n",
    "import re\n",
    "import collections\n",
    "\n",
    "WORD_RE = re.compile('\\w+')\n",
    "\n",
    "index = collections.defaultdict(list)\n",
    "with open(sys.argv[2],encoding='utf-8') as fp:\n",
    "    for line_no, line in enumerate(fp,1):\n",
    "        for match in WORD_RE.finditer(line):\n",
    "            word = match.group()\n",
    "            column_no = match.start()+1\n",
    "            location = (line_no, column_no)\n",
    "            index[word].append(location)"
   ]
  },
  {
   "cell_type": "code",
   "execution_count": 2,
   "metadata": {},
   "outputs": [
    {
     "name": "stdout",
     "output_type": "stream",
     "text": [
      "0 [(7, 14), (7, 16)]\n",
      "1 [(7, 18)]\n",
      "127 [(7, 10)]\n",
      "58125 [(2, 17)]\n",
      "58126 [(3, 17)]\n",
      "58127 [(4, 17)]\n",
      "58128 [(5, 19)]\n",
      "58129 [(6, 14)]\n",
      "b9b68685 [(8, 11)]\n",
      "control_port [(5, 4)]\n",
      "fde7a3597167d26ae27640f0 [(8, 20)]\n",
      "hb_port [(6, 4)]\n",
      "hmac [(10, 24)]\n",
      "iopub_port [(3, 4)]\n",
      "ip [(7, 4)]\n",
      "kernel_name [(11, 4)]\n",
      "key [(8, 4)]\n",
      "sha256 [(10, 29)]\n",
      "shell_port [(2, 4)]\n",
      "signature_scheme [(10, 4)]\n",
      "stdin_port [(4, 4)]\n",
      "tcp [(9, 17)]\n",
      "transport [(9, 4)]\n"
     ]
    }
   ],
   "source": [
    "for word in sorted(index,key=str.upper):\n",
    "    print(word,index[word])"
   ]
  },
  {
   "cell_type": "code",
   "execution_count": 11,
   "metadata": {},
   "outputs": [],
   "source": [
    "my_string = 'but could be forgetting it, because'"
   ]
  },
  {
   "cell_type": "code",
   "execution_count": 12,
   "metadata": {},
   "outputs": [
    {
     "name": "stdout",
     "output_type": "stream",
     "text": [
      "but\n",
      "could\n",
      "be\n",
      "forgetting\n",
      "it\n",
      "because\n"
     ]
    }
   ],
   "source": [
    "for i in WORD_RE.finditer(my_string):\n",
    "    word = i.group()\n",
    "    print(word)"
   ]
  },
  {
   "cell_type": "code",
   "execution_count": 6,
   "metadata": {},
   "outputs": [
    {
     "data": {
      "text/plain": [
       "_sre.SRE_Pattern"
      ]
     },
     "execution_count": 6,
     "metadata": {},
     "output_type": "execute_result"
    }
   ],
   "source": [
    "type(WORD_RE)"
   ]
  },
  {
   "cell_type": "code",
   "execution_count": 7,
   "metadata": {},
   "outputs": [
    {
     "data": {
      "text/plain": [
       "re.compile(r'\\w+', re.UNICODE)"
      ]
     },
     "execution_count": 7,
     "metadata": {},
     "output_type": "execute_result"
    }
   ],
   "source": [
    "WORD_RE"
   ]
  },
  {
   "cell_type": "code",
   "execution_count": null,
   "metadata": {},
   "outputs": [],
   "source": []
  }
 ],
 "metadata": {
  "kernelspec": {
   "display_name": "Python 3",
   "language": "python",
   "name": "python3"
  },
  "language_info": {
   "codemirror_mode": {
    "name": "ipython",
    "version": 3
   },
   "file_extension": ".py",
   "mimetype": "text/x-python",
   "name": "python",
   "nbconvert_exporter": "python",
   "pygments_lexer": "ipython3",
   "version": "3.6.3"
  }
 },
 "nbformat": 4,
 "nbformat_minor": 2
}
